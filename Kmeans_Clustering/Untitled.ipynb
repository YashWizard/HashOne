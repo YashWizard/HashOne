{
 "cells": [
  {
   "cell_type": "code",
   "execution_count": 1,
   "id": "233614ed-1325-41ab-9b1b-e6ec313bf4dc",
   "metadata": {},
   "outputs": [],
   "source": [
    "import pandas as pd\n",
    "import matplotlib.pyplot as plt\n",
    "import numpy as np"
   ]
  },
  {
   "cell_type": "code",
   "execution_count": 2,
   "id": "dc4ed1fd-5d04-4705-beb7-4e038cfc9c28",
   "metadata": {},
   "outputs": [],
   "source": [
    "df = pd.read_csv('weatherAUS.csv')\n"
   ]
  },
  {
   "cell_type": "code",
   "execution_count": 3,
   "id": "ff1257bb-807e-4887-bef4-5535d745133c",
   "metadata": {},
   "outputs": [],
   "source": [
    "df.dropna(inplace=True)"
   ]
  },
  {
   "cell_type": "code",
   "execution_count": 4,
   "id": "96898993-f197-4987-a839-b5c8c964de52",
   "metadata": {},
   "outputs": [],
   "source": [
    "columns_to_standardize = ['MinTemp', 'MaxTemp', 'Rainfall', 'Evaporation', 'Sunshine', 'WindGustSpeed',\n",
    "                           'WindSpeed9am', 'WindSpeed3pm', 'Humidity9am', 'Humidity3pm', 'Pressure9am',\n",
    "                           'Pressure3pm', 'Cloud9am', 'Cloud3pm', 'Temp9am', 'Temp3pm']\n"
   ]
  },
  {
   "cell_type": "code",
   "execution_count": 5,
   "id": "306f808d-e199-43fe-bbde-74c306685898",
   "metadata": {},
   "outputs": [],
   "source": [
    "for column in columns_to_standardize:\n",
    "    df[column + '_T'] = (df[column] - df[column].mean()) / df[column].std()"
   ]
  },
  {
   "cell_type": "code",
   "execution_count": 6,
   "id": "d852ed6f-55b2-41e7-ac61-c8475744c76b",
   "metadata": {},
   "outputs": [],
   "source": [
    "# Function to perform KMeans without scikit-learn\n",
    "def custom_kmeans(data, k, max_iter=100):\n",
    "    # Randomly initialize centroids\n",
    "    centroids = data.sample(k).values\n",
    "    \n",
    "    for _ in range(max_iter):\n",
    "        # Assign each point to the nearest centroid\n",
    "        distances = np.linalg.norm(data.values[:, None, :] - centroids, axis=2)\n",
    "        labels = np.argmin(distances, axis=1)\n",
    "        \n",
    "        # Update centroids\n",
    "        centroids = np.array([data[labels == j].mean(axis=0) for j in range(k)])\n",
    "    \n",
    "    return labels"
   ]
  },
  {
   "cell_type": "code",
   "execution_count": 27,
   "id": "46030fe9-152a-4054-8515-303fb2c57575",
   "metadata": {},
   "outputs": [
    {
     "ename": "NameError",
     "evalue": "name 'means' is not defined",
     "output_type": "error",
     "traceback": [
      "\u001b[1;31m---------------------------------------------------------------------------\u001b[0m",
      "\u001b[1;31mNameError\u001b[0m                                 Traceback (most recent call last)",
      "Cell \u001b[1;32mIn[27], line 15\u001b[0m\n\u001b[0;32m     13\u001b[0m     \u001b[38;5;66;03m# Generate the elbow plot\u001b[39;00m\n\u001b[0;32m     14\u001b[0m fig, _ \u001b[38;5;241m=\u001b[39m plt\u001b[38;5;241m.\u001b[39msubplots(figsize\u001b[38;5;241m=\u001b[39m(\u001b[38;5;241m10\u001b[39m, \u001b[38;5;241m5\u001b[39m))\n\u001b[1;32m---> 15\u001b[0m plt\u001b[38;5;241m.\u001b[39mplot(\u001b[43mmeans\u001b[49m, inertias, \u001b[38;5;124m'\u001b[39m\u001b[38;5;124mo-\u001b[39m\u001b[38;5;124m'\u001b[39m)\n\u001b[0;32m     16\u001b[0m plt\u001b[38;5;241m.\u001b[39mxlabel(\u001b[38;5;124m'\u001b[39m\u001b[38;5;124mNumber of Clusters\u001b[39m\u001b[38;5;124m'\u001b[39m)\n\u001b[0;32m     17\u001b[0m plt\u001b[38;5;241m.\u001b[39mylabel(\u001b[38;5;124m'\u001b[39m\u001b[38;5;124mInertia\u001b[39m\u001b[38;5;124m'\u001b[39m)\n",
      "\u001b[1;31mNameError\u001b[0m: name 'means' is not defined"
     ]
    },
    {
     "data": {
      "image/png": "[encoded data removed]",
      "text/plain": [
       "<Figure size 1000x500 with 1 Axes>"
      ]
     },
     "metadata": {},
     "output_type": "display_data"
    }
   ],
   "source": [
    "def optimise_k_means(data, max_k):\n",
    "    means = []\n",
    "    inertias = []\n",
    "\n",
    "    for k in range(1, max_k):\n",
    "        labels = custom_kmeans(data, k)\n",
    "        inertia = np.sum(np.min(np.linalg.norm(data.values[:, None, :] - \n",
    "                                              data.values[labels, None, :], axis=2), axis=1))\n",
    "        \n",
    "        means.append(k)  # Corrected variable name here\n",
    "        inertias.append(inertia)\n",
    "\n",
    "    # Generate the elbow plot\n",
    "fig, _ = plt.subplots(figsize=(10, 5))\n",
    "plt.plot(means, inertias, 'o-')\n",
    "plt.xlabel('Number of Clusters')\n",
    "plt.ylabel('Inertia')\n",
    "plt.grid(True)\n",
    "plt.show()\n"
   ]
  },
  {
   "cell_type": "code",
   "execution_count": null,
   "id": "27c7ca51-3d3b-413c-b5a3-e9853ddb67ae",
   "metadata": {},
   "outputs": [],
   "source": []
  }
 ],
 "metadata": {
  "kernelspec": {
   "display_name": "Python 3 (ipykernel)",
   "language": "python",
   "name": "python3"
  },
  "language_info": {
   "codemirror_mode": {
    "name": "ipython",
    "version": 3
   },
   "file_extension": ".py",
   "mimetype": "text/x-python",
   "name": "python",
   "nbconvert_exporter": "python",
   "pygments_lexer": "ipython3",
   "version": "3.12.0"
  }
 },
 "nbformat": 4,
 "nbformat_minor": 5
}
